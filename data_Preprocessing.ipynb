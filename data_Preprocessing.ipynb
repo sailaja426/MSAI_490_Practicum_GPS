{
 "cells": [
  {
   "cell_type": "code",
   "execution_count": 17,
   "id": "initial_id",
   "metadata": {
    "collapsed": true,
    "ExecuteTime": {
     "end_time": "2024-05-13T01:04:12.076425Z",
     "start_time": "2024-05-13T01:04:12.034100Z"
    }
   },
   "source": [
    "import pandas as pd\n",
    "import numpy as np\n",
    "import matplotlib.pyplot as plt\n",
    "from tabulate import tabulate\n",
    "import utils "
   ],
   "outputs": []
  },
  {
   "cell_type": "code",
   "execution_count": 18,
   "source": [
    "#Reading the  data file into the environment\n",
    "data_df=utils.read_csv_data(\"Data/raw/data.csv\")"
   ],
   "metadata": {
    "collapsed": false,
    "ExecuteTime": {
     "end_time": "2024-05-13T01:04:24.192052Z",
     "start_time": "2024-05-13T01:04:24.158027Z"
    }
   },
   "id": "4c36b78873aef2cf",
   "outputs": []
  },
  {
   "cell_type": "code",
   "execution_count": 20,
   "source": [
    "\n",
    "utils.summarize_dataframe_columns(data_df)\n",
    "\n",
    "\n"
   ],
   "metadata": {
    "collapsed": false,
    "ExecuteTime": {
     "end_time": "2024-05-13T01:06:02.892685Z",
     "start_time": "2024-05-13T01:06:02.887971Z"
    }
   },
   "id": "800a34eada323b96",
   "outputs": []
  },
  {
   "cell_type": "code",
   "execution_count": 8,
   "source": [
    "#starategies handling missing gender specific data\n",
    "\n",
    "#Method 1:Drop these columns for now\n",
    "\n",
    "def drop_columns(df, columns):\n",
    "    return df.drop(columns, axis=1)\n",
    "\n",
    "gender_columns=['sec_amenorrhea1','ever_preg1','miscarried1','total_fertility1','childmortality1','man_decides1','refuse_sex1','wife_expresses1','wife_decides1','wife_tolerates1','beat_refusingsex1','polygamous1']\n",
    "\n",
    "df_new=drop_columns(data_df,gender_columns)\n",
    "\n",
    "\n"
   ],
   "metadata": {
    "collapsed": false,
    "ExecuteTime": {
     "end_time": "2024-05-13T00:26:21.313446Z",
     "start_time": "2024-05-13T00:26:21.246553Z"
    }
   },
   "id": "e49c52b5ca584653",
   "outputs": []
  },
  {
   "cell_type": "code",
   "execution_count": 9,
   "source": [
    "analyze_dataframe(df_new)"
   ],
   "metadata": {
    "collapsed": false,
    "ExecuteTime": {
     "end_time": "2024-05-13T00:26:23.479412Z",
     "start_time": "2024-05-13T00:26:23.386610Z"
    }
   },
   "id": "58f7c413e6340cc7",
   "outputs": []
  },
  {
   "cell_type": "code",
   "execution_count": null,
   "source": [
    "continuous_features=['age_yrs1','age_sq_100','age_married','prop_U181','prop_adult','prop_E60_691','prop_70plus1','prop_ill_psttwo1','bmi1','height1','prop_hh_nhis1','sleeping_time1',]"
   ],
   "metadata": {
    "collapsed": false
   },
   "id": "e44cbfe1a9ca6eb6",
   "outputs": []
  }
 ],
 "metadata": {
  "kernelspec": {
   "display_name": "Python 3",
   "language": "python",
   "name": "python3"
  },
  "language_info": {
   "codemirror_mode": {
    "name": "ipython",
    "version": 2
   },
   "file_extension": ".py",
   "mimetype": "text/x-python",
   "name": "python",
   "nbconvert_exporter": "python",
   "pygments_lexer": "ipython2",
   "version": "2.7.6"
  }
 },
 "nbformat": 4,
 "nbformat_minor": 5
}
