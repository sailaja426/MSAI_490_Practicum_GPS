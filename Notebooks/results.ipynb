{
 "cells": [
  {
   "cell_type": "code",
   "id": "initial_id",
   "metadata": {
    "collapsed": true,
    "ExecuteTime": {
     "end_time": "2024-05-20T20:31:52.989086Z",
     "start_time": "2024-05-20T20:31:52.967373Z"
    }
   },
   "source": [
    "import os\n",
    "import sys\n",
    "import pandas as pd\n",
    "current_directory = os.getcwd()\n",
    "\n",
    "print(\"The current directory is:\", current_directory)\n",
    "\n",
    "\n"
   ],
   "execution_count": 84,
   "outputs": []
  },
  {
   "metadata": {
    "ExecuteTime": {
     "end_time": "2024-05-20T20:19:06.060961Z",
     "start_time": "2024-05-20T20:19:06.050815Z"
    }
   },
   "cell_type": "code",
   "source": [
    "from src.models.logistic_regression import train_logistic_regression, evaluate_logistic_regression\n",
    "from src.models.random_forest import train_random_forest, evaluate_random_forest\n",
    "from src.model_training import split_data\n",
    "from src.report_generation import generate_report\n",
    "from src.data_loading import read_csv_data\n"
   ],
   "id": "204f4ec899fa174a",
   "execution_count": 76,
   "outputs": []
  },
  {
   "metadata": {
    "ExecuteTime": {
     "end_time": "2024-05-20T20:27:59.303047Z",
     "start_time": "2024-05-20T20:27:59.229205Z"
    }
   },
   "cell_type": "code",
   "source": [
    "df = read_csv_data(\"/Users/sailajabobburi/PycharmProjects/MSAI_490_Practicum_GPS/Data/processed/processed_data.csv\")\n",
    "metadata = read_csv_data(\"../Data/processed/processed_data.csv\")\n",
    "# List of target columns\n",
    "target_columns = metadata[metadata['role'] == 'target']['variable_name'].tolist()"
   ],
   "id": "c60a851bbda0f742",
   "execution_count": 83,
   "outputs": []
  },
  {
   "metadata": {
    "ExecuteTime": {
     "end_time": "2024-05-20T17:14:33.222685Z",
     "start_time": "2024-05-20T17:14:33.196778Z"
    }
   },
   "cell_type": "code",
   "source": "",
   "id": "938861834f3458fc",
   "execution_count": 24,
   "outputs": []
  },
  {
   "metadata": {},
   "cell_type": "code",
   "execution_count": null,
   "source": "",
   "id": "ded15500f0d59fb4",
   "outputs": []
  }
 ],
 "metadata": {
  "kernelspec": {
   "display_name": "Python 3",
   "language": "python",
   "name": "python3"
  },
  "language_info": {
   "codemirror_mode": {
    "name": "ipython",
    "version": 2
   },
   "file_extension": ".py",
   "mimetype": "text/x-python",
   "name": "python",
   "nbconvert_exporter": "python",
   "pygments_lexer": "ipython2",
   "version": "2.7.6"
  }
 },
 "nbformat": 4,
 "nbformat_minor": 5
}
