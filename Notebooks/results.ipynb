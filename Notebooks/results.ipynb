{
 "cells": [
  {
   "cell_type": "code",
   "id": "initial_id",
   "metadata": {
    "collapsed": true,
    "ExecuteTime": {
     "end_time": "2024-05-20T20:31:52.989086Z",
     "start_time": "2024-05-20T20:31:52.967373Z"
    }
   },
   "source": [
    "import os\n",
    "import sys\n",
    "import pandas as pd\n",
    "current_directory = os.getcwd()\n",
    "\n",
    "print(\"The current directory is:\", current_directory)\n",
    "\n",
    "\n"
   ],
   "outputs": [
    {
     "name": "stdout",
     "output_type": "stream",
     "text": [
      "The current directory is: /\n"
     ]
    }
   ],
   "execution_count": 84
  },
  {
   "metadata": {
    "ExecuteTime": {
     "end_time": "2024-05-20T20:19:06.060961Z",
     "start_time": "2024-05-20T20:19:06.050815Z"
    }
   },
   "cell_type": "code",
   "source": [
    "from src.models.logistic_regression import train_logistic_regression, evaluate_logistic_regression\n",
    "from src.models.random_forest import train_random_forest, evaluate_random_forest\n",
    "from src.model_training import split_data\n",
    "from src.report_generation import generate_report\n",
    "from src.data_loading import read_csv_data\n"
   ],
   "id": "204f4ec899fa174a",
   "outputs": [],
   "execution_count": 76
  },
  {
   "metadata": {
    "ExecuteTime": {
     "end_time": "2024-05-20T20:27:59.303047Z",
     "start_time": "2024-05-20T20:27:59.229205Z"
    }
   },
   "cell_type": "code",
   "source": [
    "df = read_csv_data(\"/Users/sailajabobburi/PycharmProjects/MSAI_490_Practicum_GPS/Data/processed/processed_data.csv\")\n",
    "metadata = read_csv_data(\"../Data/processed/processed_data.csv\")\n",
    "# List of target columns\n",
    "target_columns = metadata[metadata['role'] == 'target']['variable_name'].tolist()"
   ],
   "id": "c60a851bbda0f742",
   "outputs": [
    {
     "name": "stdout",
     "output_type": "stream",
     "text": [
      "Data loaded successfully.\n",
      "Failed to load data: [Errno 2] No such file or directory: '../Data/processed/processed_data.csv'\n"
     ]
    },
    {
     "ename": "TypeError",
     "evalue": "'NoneType' object is not subscriptable",
     "output_type": "error",
     "traceback": [
      "\u001B[0;31m---------------------------------------------------------------------------\u001B[0m",
      "\u001B[0;31mTypeError\u001B[0m                                 Traceback (most recent call last)",
      "Cell \u001B[0;32mIn[83], line 4\u001B[0m\n\u001B[1;32m      2\u001B[0m metadata \u001B[38;5;241m=\u001B[39m read_csv_data(\u001B[38;5;124m\"\u001B[39m\u001B[38;5;124m../Data/processed/processed_data.csv\u001B[39m\u001B[38;5;124m\"\u001B[39m)\n\u001B[1;32m      3\u001B[0m \u001B[38;5;66;03m# List of target columns\u001B[39;00m\n\u001B[0;32m----> 4\u001B[0m target_columns \u001B[38;5;241m=\u001B[39m metadata[\u001B[43mmetadata\u001B[49m\u001B[43m[\u001B[49m\u001B[38;5;124;43m'\u001B[39;49m\u001B[38;5;124;43mrole\u001B[39;49m\u001B[38;5;124;43m'\u001B[39;49m\u001B[43m]\u001B[49m \u001B[38;5;241m==\u001B[39m \u001B[38;5;124m'\u001B[39m\u001B[38;5;124mtarget\u001B[39m\u001B[38;5;124m'\u001B[39m][\u001B[38;5;124m'\u001B[39m\u001B[38;5;124mvariable_name\u001B[39m\u001B[38;5;124m'\u001B[39m]\u001B[38;5;241m.\u001B[39mtolist()\n",
      "\u001B[0;31mTypeError\u001B[0m: 'NoneType' object is not subscriptable"
     ]
    }
   ],
   "execution_count": 83
  },
  {
   "metadata": {
    "ExecuteTime": {
     "end_time": "2024-05-20T17:14:33.222685Z",
     "start_time": "2024-05-20T17:14:33.196778Z"
    }
   },
   "cell_type": "code",
   "source": "",
   "id": "938861834f3458fc",
   "outputs": [
    {
     "name": "stdout",
     "output_type": "stream",
     "text": [
      "Failed to split data: 'NoneType' object has no attribute 'drop'\n"
     ]
    },
    {
     "ename": "AttributeError",
     "evalue": "'tuple' object has no attribute 'items'",
     "output_type": "error",
     "traceback": [
      "\u001B[0;31m---------------------------------------------------------------------------\u001B[0m",
      "\u001B[0;31mAttributeError\u001B[0m                            Traceback (most recent call last)",
      "Cell \u001B[0;32mIn[24], line 10\u001B[0m\n\u001B[1;32m      7\u001B[0m \u001B[38;5;66;03m# Train and evaluate models for each target variable\u001B[39;00m\n\u001B[1;32m      8\u001B[0m all_performances \u001B[38;5;241m=\u001B[39m {}\n\u001B[0;32m---> 10\u001B[0m \u001B[38;5;28;01mfor\u001B[39;00m target, (X_train, X_test, y_train, y_test) \u001B[38;5;129;01min\u001B[39;00m \u001B[43msplits\u001B[49m\u001B[38;5;241;43m.\u001B[39;49m\u001B[43mitems\u001B[49m():\n\u001B[1;32m     11\u001B[0m         \u001B[38;5;28mprint\u001B[39m(\u001B[38;5;124mf\u001B[39m\u001B[38;5;124m\"\u001B[39m\u001B[38;5;124mTraining and evaluating models for target: \u001B[39m\u001B[38;5;132;01m{\u001B[39;00mtarget\u001B[38;5;132;01m}\u001B[39;00m\u001B[38;5;124m\"\u001B[39m)\n\u001B[1;32m     12\u001B[0m         performances \u001B[38;5;241m=\u001B[39m []\n",
      "\u001B[0;31mAttributeError\u001B[0m: 'tuple' object has no attribute 'items'"
     ]
    }
   ],
   "execution_count": 24
  },
  {
   "metadata": {},
   "cell_type": "code",
   "outputs": [],
   "execution_count": null,
   "source": "",
   "id": "ded15500f0d59fb4"
  }
 ],
 "metadata": {
  "kernelspec": {
   "display_name": "Python 3",
   "language": "python",
   "name": "python3"
  },
  "language_info": {
   "codemirror_mode": {
    "name": "ipython",
    "version": 2
   },
   "file_extension": ".py",
   "mimetype": "text/x-python",
   "name": "python",
   "nbconvert_exporter": "python",
   "pygments_lexer": "ipython2",
   "version": "2.7.6"
  }
 },
 "nbformat": 4,
 "nbformat_minor": 5
}
